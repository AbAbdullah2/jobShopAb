{
 "cells": [
  {
   "cell_type": "code",
   "execution_count": 160,
   "id": "6bdf92ff",
   "metadata": {},
   "outputs": [],
   "source": [
    "import pandas as pd\n",
    "import matplotlib.pyplot as plt\n",
    "from matplotlib.lines import Line2D\n",
    "from matplotlib.patches import Patch"
   ]
  },
  {
   "cell_type": "code",
   "execution_count": 161,
   "id": "aeddb25d",
   "metadata": {},
   "outputs": [],
   "source": [
    "df1 = pd.read_csv(\"solnStatic.csv\", index_col=0)\n",
    "df2 = pd.read_csv(\"soln3Times.csv\", index_col=0)\n",
    "df3 = pd.read_csv(\"solnDynamic.csv\", index_col=0)"
   ]
  },
  {
   "cell_type": "code",
   "execution_count": 162,
   "id": "4834f0f4",
   "metadata": {},
   "outputs": [
    {
     "data": {
      "text/html": [
       "<div>\n",
       "<style scoped>\n",
       "    .dataframe tbody tr th:only-of-type {\n",
       "        vertical-align: middle;\n",
       "    }\n",
       "\n",
       "    .dataframe tbody tr th {\n",
       "        vertical-align: top;\n",
       "    }\n",
       "\n",
       "    .dataframe thead th {\n",
       "        text-align: right;\n",
       "    }\n",
       "</style>\n",
       "<table border=\"1\" class=\"dataframe\">\n",
       "  <thead>\n",
       "    <tr style=\"text-align: right;\">\n",
       "      <th></th>\n",
       "      <th>job_id</th>\n",
       "      <th>category</th>\n",
       "      <th>machine</th>\n",
       "      <th>start_time</th>\n",
       "      <th>end_time</th>\n",
       "      <th>flow_time</th>\n",
       "      <th>arrival_time</th>\n",
       "      <th>processing_time</th>\n",
       "    </tr>\n",
       "  </thead>\n",
       "  <tbody>\n",
       "    <tr>\n",
       "      <th>0</th>\n",
       "      <td>0</td>\n",
       "      <td>2</td>\n",
       "      <td>7</td>\n",
       "      <td>16</td>\n",
       "      <td>31</td>\n",
       "      <td>15</td>\n",
       "      <td>1</td>\n",
       "      <td>15</td>\n",
       "    </tr>\n",
       "    <tr>\n",
       "      <th>1</th>\n",
       "      <td>1</td>\n",
       "      <td>0</td>\n",
       "      <td>5</td>\n",
       "      <td>1</td>\n",
       "      <td>31</td>\n",
       "      <td>0</td>\n",
       "      <td>1</td>\n",
       "      <td>30</td>\n",
       "    </tr>\n",
       "    <tr>\n",
       "      <th>2</th>\n",
       "      <td>2</td>\n",
       "      <td>2</td>\n",
       "      <td>1</td>\n",
       "      <td>16</td>\n",
       "      <td>31</td>\n",
       "      <td>15</td>\n",
       "      <td>1</td>\n",
       "      <td>15</td>\n",
       "    </tr>\n",
       "    <tr>\n",
       "      <th>3</th>\n",
       "      <td>3</td>\n",
       "      <td>2</td>\n",
       "      <td>6</td>\n",
       "      <td>46</td>\n",
       "      <td>61</td>\n",
       "      <td>45</td>\n",
       "      <td>1</td>\n",
       "      <td>15</td>\n",
       "    </tr>\n",
       "    <tr>\n",
       "      <th>4</th>\n",
       "      <td>4</td>\n",
       "      <td>0</td>\n",
       "      <td>4</td>\n",
       "      <td>1</td>\n",
       "      <td>31</td>\n",
       "      <td>0</td>\n",
       "      <td>1</td>\n",
       "      <td>30</td>\n",
       "    </tr>\n",
       "    <tr>\n",
       "      <th>...</th>\n",
       "      <td>...</td>\n",
       "      <td>...</td>\n",
       "      <td>...</td>\n",
       "      <td>...</td>\n",
       "      <td>...</td>\n",
       "      <td>...</td>\n",
       "      <td>...</td>\n",
       "      <td>...</td>\n",
       "    </tr>\n",
       "    <tr>\n",
       "      <th>95</th>\n",
       "      <td>95</td>\n",
       "      <td>0</td>\n",
       "      <td>0</td>\n",
       "      <td>226</td>\n",
       "      <td>256</td>\n",
       "      <td>56</td>\n",
       "      <td>170</td>\n",
       "      <td>30</td>\n",
       "    </tr>\n",
       "    <tr>\n",
       "      <th>96</th>\n",
       "      <td>96</td>\n",
       "      <td>0</td>\n",
       "      <td>6</td>\n",
       "      <td>196</td>\n",
       "      <td>226</td>\n",
       "      <td>26</td>\n",
       "      <td>170</td>\n",
       "      <td>30</td>\n",
       "    </tr>\n",
       "    <tr>\n",
       "      <th>97</th>\n",
       "      <td>97</td>\n",
       "      <td>2</td>\n",
       "      <td>5</td>\n",
       "      <td>196</td>\n",
       "      <td>211</td>\n",
       "      <td>26</td>\n",
       "      <td>170</td>\n",
       "      <td>15</td>\n",
       "    </tr>\n",
       "    <tr>\n",
       "      <th>98</th>\n",
       "      <td>98</td>\n",
       "      <td>0</td>\n",
       "      <td>4</td>\n",
       "      <td>196</td>\n",
       "      <td>226</td>\n",
       "      <td>26</td>\n",
       "      <td>170</td>\n",
       "      <td>30</td>\n",
       "    </tr>\n",
       "    <tr>\n",
       "      <th>99</th>\n",
       "      <td>99</td>\n",
       "      <td>0</td>\n",
       "      <td>4</td>\n",
       "      <td>226</td>\n",
       "      <td>256</td>\n",
       "      <td>56</td>\n",
       "      <td>170</td>\n",
       "      <td>30</td>\n",
       "    </tr>\n",
       "  </tbody>\n",
       "</table>\n",
       "<p>100 rows × 8 columns</p>\n",
       "</div>"
      ],
      "text/plain": [
       "    job_id  category  machine  start_time  end_time  flow_time  arrival_time  \\\n",
       "0        0         2        7          16        31         15             1   \n",
       "1        1         0        5           1        31          0             1   \n",
       "2        2         2        1          16        31         15             1   \n",
       "3        3         2        6          46        61         45             1   \n",
       "4        4         0        4           1        31          0             1   \n",
       "..     ...       ...      ...         ...       ...        ...           ...   \n",
       "95      95         0        0         226       256         56           170   \n",
       "96      96         0        6         196       226         26           170   \n",
       "97      97         2        5         196       211         26           170   \n",
       "98      98         0        4         196       226         26           170   \n",
       "99      99         0        4         226       256         56           170   \n",
       "\n",
       "    processing_time  \n",
       "0                15  \n",
       "1                30  \n",
       "2                15  \n",
       "3                15  \n",
       "4                30  \n",
       "..              ...  \n",
       "95               30  \n",
       "96               30  \n",
       "97               15  \n",
       "98               30  \n",
       "99               30  \n",
       "\n",
       "[100 rows x 8 columns]"
      ]
     },
     "execution_count": 162,
     "metadata": {},
     "output_type": "execute_result"
    }
   ],
   "source": [
    "df1"
   ]
  },
  {
   "cell_type": "code",
   "execution_count": 163,
   "id": "95ed708a",
   "metadata": {},
   "outputs": [
    {
     "data": {
      "text/plain": [
       "arrival_time\n",
       "1      15.75\n",
       "45     19.00\n",
       "90     21.25\n",
       "135    25.20\n",
       "170    32.60\n",
       "Name: flow_time, dtype: float64"
      ]
     },
     "execution_count": 163,
     "metadata": {},
     "output_type": "execute_result"
    }
   ],
   "source": [
    "mean_arrival1 = df1.groupby(\"arrival_time\")[\"flow_time\"].mean()\n",
    "mean_arrival2 = df2.groupby(\"arrival_time\")[\"flow_time\"].mean()\n",
    "mean_arrival3 = df3.groupby(\"arrival_time\")[\"flow_time\"].mean()\n",
    "mean_arrival1"
   ]
  },
  {
   "cell_type": "code",
   "execution_count": 164,
   "id": "03728dac",
   "metadata": {},
   "outputs": [
    {
     "data": {
      "text/plain": [
       "arrival_time\n",
       "1      45\n",
       "45     46\n",
       "90     46\n",
       "135    50\n",
       "170    56\n",
       "Name: flow_time, dtype: int64"
      ]
     },
     "execution_count": 164,
     "metadata": {},
     "output_type": "execute_result"
    }
   ],
   "source": [
    "max_arrival1 = df1.groupby(\"arrival_time\")[\"flow_time\"].max()\n",
    "max_arrival2 = df2.groupby(\"arrival_time\")[\"flow_time\"].max()\n",
    "max_arrival3 = df3.groupby(\"arrival_time\")[\"flow_time\"].max()\n",
    "max_arrival1"
   ]
  },
  {
   "cell_type": "code",
   "execution_count": 165,
   "id": "eb0c68d5",
   "metadata": {},
   "outputs": [
    {
     "data": {
      "text/plain": [
       "Text(0.5, 1.0, 'Mean/Max Wait-Time by Arrival Time')"
      ]
     },
     "execution_count": 165,
     "metadata": {},
     "output_type": "execute_result"
    },
    {
     "data": {
      "image/png": "[encoded data removed]",
      "text/plain": [
       "<Figure size 640x480 with 1 Axes>"
      ]
     },
     "metadata": {},
     "output_type": "display_data"
    }
   ],
   "source": [
    "plt.plot(mean_arrival1.index, mean_arrival1, label = \"Mean Wait\", color=\"red\")\n",
    "#plt.plot(mean_arrival2.index, mean_arrival2, label = \"Mean Wait\", color=\"orange\")\n",
    "plt.plot(mean_arrival3.index, mean_arrival3, label = \"Mean Wait\", color=\"green\")\n",
    "plt.plot(max_arrival1.index, max_arrival1, label=\"Max Wait\", linestyle=\"dashed\", color = \"red\")\n",
    "#plt.plot(max_arrival2.index, max_arrival2, label=\"Max Wait\", linestyle=\"dashed\", color = \"orange\")\n",
    "plt.plot(max_arrival3.index, max_arrival3, label=\"Max Wait\", linestyle=\"dashed\", color = \"green\")\n",
    "plt.fill_between(mean_arrival1.index, mean_arrival1, max_arrival1, color='red', alpha=0.1)\n",
    "plt.fill_between(mean_arrival3.index, mean_arrival3, max_arrival3, color='green', alpha=0.1)\n",
    "# Create custom legend entries\n",
    "color_legend = [\n",
    "    Patch(facecolor=\"red\", edgecolor=\"black\", label=\"Static\"),\n",
    "    Patch(facecolor=\"green\", edgecolor=\"black\", label=\"Dynamic\"),\n",
    "    #Line2D([0], [0], color=\"orange\", lw=2, label=\"3 Categories\"),\n",
    "]\n",
    "\n",
    "style_legend = [\n",
    "    Line2D([0], [0], color=\"black\", linestyle=\"-\", lw=2, label=\"Mean\"),\n",
    "    Line2D([0], [0], color=\"black\", linestyle=\"--\", lw=2, label=\"Max\")\n",
    "]\n",
    "\n",
    "# Combine both parts in one legend\n",
    "legend_elements = color_legend + style_legend\n",
    "# Place legend outside to the right\n",
    "plt.legend(\n",
    "    handles=legend_elements,\n",
    "    loc='center left',\n",
    "    bbox_to_anchor=(1, 0.5)  # (x, y) - 1 = just right of plot, 0.5 = vertical center\n",
    ")\n",
    "plt.xlabel(\"Arrival Time\")\n",
    "plt.ylabel(\"Wait-Time\")\n",
    "plt.title(\"Mean/Max Wait-Time by Arrival Time\")"
   ]
  },
  {
   "cell_type": "code",
   "execution_count": null,
   "id": "4f251704",
   "metadata": {},
   "outputs": [],
   "source": []
  }
 ],
 "metadata": {
  "kernelspec": {
   "display_name": "Python 3",
   "language": "python",
   "name": "python3"
  },
  "language_info": {
   "codemirror_mode": {
    "name": "ipython",
    "version": 3
   },
   "file_extension": ".py",
   "mimetype": "text/x-python",
   "name": "python",
   "nbconvert_exporter": "python",
   "pygments_lexer": "ipython3",
   "version": "3.13.1"
  }
 },
 "nbformat": 4,
 "nbformat_minor": 5
}
